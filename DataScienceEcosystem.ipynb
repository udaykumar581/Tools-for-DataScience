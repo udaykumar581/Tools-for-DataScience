{
 "cells": [
  {
   "cell_type": "markdown",
   "id": "1682f365-7a8d-43e6-8ba3-6d71d9332f66",
   "metadata": {
    "tags": []
   },
   "source": [
    "# Data Science Notebook\n"
   ]
  },
  {
   "cell_type": "markdown",
   "id": "cbc31b52-ad70-4609-a1da-a8851330ac02",
   "metadata": {},
   "source": [
    "## Introduction\n",
    "\n",
    "Welcome to this Data Science Notebook! In this notebook, we will explore various aspects of data science, including programming languages, libraries, tools, and basic arithmetic expressions.\n"
   ]
  },
  {
   "cell_type": "markdown",
   "id": "033f39fb-5909-41bd-ac8a-b0b2380458c9",
   "metadata": {},
   "source": [
    "## Data Science Languages\n",
    "\n",
    "1. Python\n",
    "2. R\n",
    "3. Julia\n",
    "4. SQL\n"
   ]
  },
  {
   "cell_type": "markdown",
   "id": "918d80d3-55e2-4d07-891f-11a135351e31",
   "metadata": {
    "tags": []
   },
   "source": [
    "## Data Science Libraries\n",
    "\n",
    "1. NumPy\n",
    "2. Pandas\n",
    "3. Matplotlib\n",
    "4. Seaborn\n",
    "5. Scikit-learn\n"
   ]
  },
  {
   "cell_type": "markdown",
   "id": "24b1f477-b3f6-43e4-8c46-9b7643eaa2c3",
   "metadata": {},
   "source": [
    "## Data Science Tools\n",
    "\n",
    "| Tool           | Description                    |\n",
    "| -------------- | ------------------------------ |\n",
    "| Jupyter        | Interactive Computing         |\n",
    "| VS Code        | Code Editor                    |\n",
    "| TensorFlow     | Machine Learning Framework     |\n",
    "| Tableau        | Data Visualization             |\n",
    "| SQL Server     | Relational Database Management |\n"
   ]
  },
  {
   "cell_type": "markdown",
   "id": "3032d70c-f690-486d-9a46-ad634e22b127",
   "metadata": {},
   "source": [
    "## Arithmetic Expressions Examples\n",
    "\n",
    "In this section, we'll explore some basic arithmetic expressions using Python.\n"
   ]
  },
  {
   "cell_type": "code",
   "execution_count": 3,
   "id": "b7beba0e-9deb-4cc9-bde5-5a4483387890",
   "metadata": {
    "tags": []
   },
   "outputs": [
    {
     "data": {
      "text/plain": [
       "(50, 15)"
      ]
     },
     "execution_count": 3,
     "metadata": {},
     "output_type": "execute_result"
    }
   ],
   "source": [
    "# Exercise 8 - Multiply and Add Numbers\n",
    "num1 = 5\n",
    "num2 = 10\n",
    "\n",
    "result_multiply = num1 * num2\n",
    "result_addition = num1 + num2\n",
    "\n",
    "result_multiply, result_addition\n"
   ]
  },
  {
   "cell_type": "code",
   "execution_count": 4,
   "id": "d7b88d70-4086-4ee7-98c4-a8c1d403cd30",
   "metadata": {
    "tags": []
   },
   "outputs": [
    {
     "data": {
      "text/plain": [
       "2.0"
      ]
     },
     "execution_count": 4,
     "metadata": {},
     "output_type": "execute_result"
    }
   ],
   "source": [
    "# Exercise 9 - Convert Minutes to Hours\n",
    "minutes = 120\n",
    "\n",
    "hours = minutes / 60\n",
    "\n",
    "hours\n"
   ]
  },
  {
   "cell_type": "markdown",
   "id": "3bbf13a4-9f05-42af-b780-66d019a79b87",
   "metadata": {
    "tags": []
   },
   "source": [
    "## Objectives\n",
    "\n",
    "1. Explore data science languages and libraries.\n",
    "2. Understand basic arithmetic expressions in Python.\n",
    "3. Work with data science tools and perform simple calculations.\n"
   ]
  },
  {
   "cell_type": "markdown",
   "id": "2d6d4e76-0432-44aa-bdfb-3aed3ff04122",
   "metadata": {},
   "source": [
    "## Author\n",
    "\n",
    "John Doe\n"
   ]
  },
  {
   "cell_type": "code",
   "execution_count": null,
   "id": "70260de3-7277-406c-bd0a-6c0481d9de46",
   "metadata": {},
   "outputs": [],
   "source": []
  }
 ],
 "metadata": {
  "kernelspec": {
   "display_name": "Python",
   "language": "python",
   "name": "conda-env-python-py"
  },
  "language_info": {
   "codemirror_mode": {
    "name": "ipython",
    "version": 3
   },
   "file_extension": ".py",
   "mimetype": "text/x-python",
   "name": "python",
   "nbconvert_exporter": "python",
   "pygments_lexer": "ipython3",
   "version": "3.7.12"
  }
 },
 "nbformat": 4,
 "nbformat_minor": 5
}
